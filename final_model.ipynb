{
 "cells": [
  {
   "cell_type": "code",
   "execution_count": 1,
   "metadata": {},
   "outputs": [
    {
     "name": "stderr",
     "output_type": "stream",
     "text": [
      "Using TensorFlow backend.\n"
     ]
    }
   ],
   "source": [
    "# feature extractoring and preprocessing data\n",
    "import librosa\n",
    "import pandas as pd\n",
    "import numpy as np\n",
    "import matplotlib.pyplot as plt\n",
    "%matplotlib inline\n",
    "import os\n",
    "from PIL import Image\n",
    "import pathlib\n",
    "import csv\n",
    "\n",
    "# Preprocessing\n",
    "from sklearn.model_selection import train_test_split\n",
    "from sklearn.preprocessing import LabelEncoder, StandardScaler\n",
    "\n",
    "#Keras\n",
    "import keras\n",
    "\n",
    "import warnings\n",
    "warnings.filterwarnings('ignore')"
   ]
  },
  {
   "cell_type": "code",
   "execution_count": 2,
   "metadata": {},
   "outputs": [
    {
     "data": {
      "text/plain": [
       "<Figure size 720x720 with 0 Axes>"
      ]
     },
     "metadata": {},
     "output_type": "display_data"
    }
   ],
   "source": [
    "\n",
    "cmap = plt.get_cmap('inferno')     #making an instance of color map with color code inferno\n",
    "\n",
    "plt.figure(figsize=(10,10))\n",
    "genres = 'blues classical country disco hiphop jazz metal pop reggae rock'.split()\n",
    "for g in genres:\n",
    "    pathlib.Path(f'img_data/{g}').mkdir(parents=True, exist_ok=True)     \n",
    "    for filename in os.listdir(f'/home/oldsport/Downloads/genres/{g}'):\n",
    "        songname = f'/home/oldsport/Downloads/genres/{g}/{filename}'\n",
    "        y, sr = librosa.load(songname, mono=True, duration=5)\n",
    "        plt.specgram(y, NFFT=2048, Fs=2, Fc=0, noverlap=128, cmap=cmap, sides='default', mode='default', scale='dB');\n",
    "        plt.axis('off');\n",
    "        plt.savefig(f'img_data/{g}/{filename[:-3].replace(\".\", \"\")}.png')\n",
    "        plt.clf()\n",
    "        \n",
    "        \n",
    "# Mono or monophonic describes a system where all the audio signals are mixed together \n",
    "# and routed through a single audio channel. Mono systems can have multiple loudspeakers,\n",
    "# and even multiple widely separated loudspeakers.\n",
    "\n",
    "#Duration in Seconds\n",
    "\n",
    "#NFFT: The number of data points used in each block for the FFT\n",
    "#The benefit of a longer FFT is that you will have more frequency resolution.\n",
    "#The larger the number the longer the computation takes\n",
    "\n",
    "#Fs, Fc noverlap are taken as default values\n",
    "\n",
    "# scale is log scale with db"
   ]
  },
  {
   "cell_type": "code",
   "execution_count": 3,
   "metadata": {},
   "outputs": [],
   "source": [
    "header = 'filename chroma_stft rmse spectral_centroid spectral_bandwidth rolloff zero_crossing_rate'\n",
    "for i in range(1, 21):\n",
    "    header += f' mfcc{i}'\n",
    "header += ' label'\n",
    "header = header.split()"
   ]
  },
  {
   "cell_type": "code",
   "execution_count": 6,
   "metadata": {},
   "outputs": [],
   "source": [
    "file = open('data.csv', 'w', newline='')\n",
    "with file:\n",
    "    writer = csv.writer(file)\n",
    "    writer.writerow(header)\n",
    "genres = 'blues classical country disco hiphop jazz metal pop reggae rock'.split()\n",
    "for g in genres:\n",
    "    for filename in os.listdir(f'/home/oldsport/Downloads/genres/{g}'):\n",
    "        songname = f'/home/oldsport/Downloads/genres/{g}/{filename}'\n",
    "        y, sr = librosa.load(songname, mono=True, duration=30)\n",
    "        chroma_stft = librosa.feature.chroma_stft(y=y, sr=sr)\n",
    "        spec_cent = librosa.feature.spectral_centroid(y=y, sr=sr)\n",
    "        spec_bw = librosa.feature.spectral_bandwidth(y=y, sr=sr)\n",
    "        rolloff = librosa.feature.spectral_rolloff(y=y, sr=sr)\n",
    "        zcr = librosa.feature.zero_crossing_rate(y)\n",
    "        rmse= librosa.feature.rmse(y)\n",
    "        mfcc = librosa.feature.mfcc(y=y, sr=sr)\n",
    "        to_append = f'{filename} {np.mean(chroma_stft)} {np.mean(rmse)} {np.mean(spec_cent)} {np.mean(spec_bw)} {np.mean(rolloff)} {np.mean(zcr)}'    \n",
    "        for e in mfcc:\n",
    "            to_append += f' {np.mean(e)}'\n",
    "        to_append += f' {g}'\n",
    "        file = open('data.csv', 'a', newline='')\n",
    "        with file:\n",
    "            writer = csv.writer(file)\n",
    "            writer.writerow(to_append.split())\n",
    "\n",
    "# librosa.core.load(path, sr=22050, mono=True, offset=0.0, duration=None, dtype=<class 'numpy.float32'>, res_type='kaiser_best')"
   ]
  },
  {
   "cell_type": "code",
   "execution_count": 8,
   "metadata": {},
   "outputs": [
    {
     "data": {
      "text/plain": [
       "(1000, 28)"
      ]
     },
     "execution_count": 8,
     "metadata": {},
     "output_type": "execute_result"
    }
   ],
   "source": [
    "data = pd.read_csv('data.csv')\n",
    "data.shape"
   ]
  },
  {
   "cell_type": "code",
   "execution_count": 9,
   "metadata": {},
   "outputs": [],
   "source": [
    "data = data.drop(['filename'],axis=1)"
   ]
  },
  {
   "cell_type": "code",
   "execution_count": 10,
   "metadata": {},
   "outputs": [],
   "source": [
    "genre_list = data.iloc[:, -1]\n",
    "encoder = LabelEncoder()\n",
    "y = encoder.fit_transform(genre_list)     #Encode labels with value between 0 and n_classes-1"
   ]
  },
  {
   "cell_type": "code",
   "execution_count": 11,
   "metadata": {},
   "outputs": [],
   "source": [
    "scaler = StandardScaler()\n",
    "X = scaler.fit_transform(np.array(data.iloc[:, :-1], dtype = float))\n",
    "\n",
    "#Standardize features by removing the mean and scaling to unit variance\n",
    "\n",
    "# The standard score of a sample x is calculated as:\n",
    "\n",
    "# z = (x - u) / s\n",
    "# where u is the mean of the training samples or zero if with_mean=False,\n",
    "# and s is the standard deviation of the training samples or one if with_std=False.\n",
    "\n"
   ]
  },
  {
   "cell_type": "code",
   "execution_count": 12,
   "metadata": {},
   "outputs": [],
   "source": [
    "X_train, X_test, y_train, y_test = train_test_split(X, y, test_size=0.2)"
   ]
  },
  {
   "cell_type": "code",
   "execution_count": 13,
   "metadata": {},
   "outputs": [
    {
     "data": {
      "text/plain": [
       "array([ 2.47725996, -0.26080111,  0.63502638,  0.18013298,  0.47925077,\n",
       "        1.31867374,  0.6886862 , -0.56361769, -0.60648238,  2.01556139,\n",
       "       -0.86650641,  0.9380281 , -1.34662769,  1.61586014, -0.85582562,\n",
       "        1.81460617, -0.89227961,  1.55987946, -1.41456037,  0.80455888,\n",
       "       -1.28868676,  1.23026279, -1.43210825,  0.9989935 , -0.83494794,\n",
       "        1.05900279])"
      ]
     },
     "execution_count": 13,
     "metadata": {},
     "output_type": "execute_result"
    }
   ],
   "source": [
    "\n",
    "X_train[10]"
   ]
  },
  {
   "cell_type": "code",
   "execution_count": 14,
   "metadata": {},
   "outputs": [
    {
     "name": "stdout",
     "output_type": "stream",
     "text": [
      "WARNING:tensorflow:From /usr/local/lib/python3.6/dist-packages/tensorflow/python/framework/op_def_library.py:263: colocate_with (from tensorflow.python.framework.ops) is deprecated and will be removed in a future version.\n",
      "Instructions for updating:\n",
      "Colocations handled automatically by placer.\n"
     ]
    }
   ],
   "source": [
    "from keras import models\n",
    "from keras import layers\n",
    "\n",
    "model = models.Sequential()\n",
    "model.add(layers.Dense(256, activation='relu', input_shape=(X_train.shape[1],)))\n",
    "\n",
    "model.add(layers.Dense(128, activation='relu'))\n",
    "\n",
    "model.add(layers.Dense(64, activation='relu'))\n",
    "\n",
    "model.add(layers.Dense(10, activation='softmax'))"
   ]
  },
  {
   "cell_type": "code",
   "execution_count": 15,
   "metadata": {},
   "outputs": [],
   "source": [
    "model.compile(optimizer='adam',\n",
    "              loss='sparse_categorical_crossentropy',\n",
    "              metrics=['accuracy'])"
   ]
  },
  {
   "cell_type": "code",
   "execution_count": 16,
   "metadata": {},
   "outputs": [
    {
     "name": "stdout",
     "output_type": "stream",
     "text": [
      "WARNING:tensorflow:From /usr/local/lib/python3.6/dist-packages/tensorflow/python/ops/math_ops.py:3066: to_int32 (from tensorflow.python.ops.math_ops) is deprecated and will be removed in a future version.\n",
      "Instructions for updating:\n",
      "Use tf.cast instead.\n",
      "Epoch 1/20\n",
      "800/800 [==============================] - 2s 2ms/step - loss: 2.1969 - acc: 0.2075\n",
      "Epoch 2/20\n",
      "800/800 [==============================] - 0s 33us/step - loss: 1.8423 - acc: 0.3625\n",
      "Epoch 3/20\n",
      "800/800 [==============================] - 0s 27us/step - loss: 1.5787 - acc: 0.4150\n",
      "Epoch 4/20\n",
      "800/800 [==============================] - 0s 25us/step - loss: 1.3767 - acc: 0.5262\n",
      "Epoch 5/20\n",
      "800/800 [==============================] - 0s 43us/step - loss: 1.2405 - acc: 0.5787\n",
      "Epoch 6/20\n",
      "800/800 [==============================] - 0s 35us/step - loss: 1.1258 - acc: 0.6412\n",
      "Epoch 7/20\n",
      "800/800 [==============================] - 0s 23us/step - loss: 1.0431 - acc: 0.6475\n",
      "Epoch 8/20\n",
      "800/800 [==============================] - 0s 15us/step - loss: 0.9802 - acc: 0.6687\n",
      "Epoch 9/20\n",
      "800/800 [==============================] - 0s 15us/step - loss: 0.9213 - acc: 0.7075\n",
      "Epoch 10/20\n",
      "800/800 [==============================] - 0s 14us/step - loss: 0.8710 - acc: 0.7312\n",
      "Epoch 11/20\n",
      "800/800 [==============================] - 0s 16us/step - loss: 0.8268 - acc: 0.7362\n",
      "Epoch 12/20\n",
      "800/800 [==============================] - 0s 16us/step - loss: 0.7940 - acc: 0.7413\n",
      "Epoch 13/20\n",
      "800/800 [==============================] - 0s 22us/step - loss: 0.7563 - acc: 0.7638\n",
      "Epoch 14/20\n",
      "800/800 [==============================] - 0s 23us/step - loss: 0.7248 - acc: 0.7787\n",
      "Epoch 15/20\n",
      "800/800 [==============================] - 0s 15us/step - loss: 0.6923 - acc: 0.7787\n",
      "Epoch 16/20\n",
      "800/800 [==============================] - 0s 19us/step - loss: 0.6502 - acc: 0.7850\n",
      "Epoch 17/20\n",
      "800/800 [==============================] - 0s 16us/step - loss: 0.6255 - acc: 0.8025\n",
      "Epoch 18/20\n",
      "800/800 [==============================] - 0s 14us/step - loss: 0.6044 - acc: 0.8062\n",
      "Epoch 19/20\n",
      "800/800 [==============================] - 0s 14us/step - loss: 0.5777 - acc: 0.8225\n",
      "Epoch 20/20\n",
      "800/800 [==============================] - 0s 15us/step - loss: 0.5521 - acc: 0.8313\n"
     ]
    }
   ],
   "source": [
    "history = model.fit(X_train,\n",
    "                    y_train,\n",
    "                    epochs=20,\n",
    "                    batch_size=128)"
   ]
  },
  {
   "cell_type": "code",
   "execution_count": 17,
   "metadata": {},
   "outputs": [
    {
     "name": "stdout",
     "output_type": "stream",
     "text": [
      "200/200 [==============================] - 0s 173us/step\n"
     ]
    }
   ],
   "source": [
    "test_loss, test_acc = model.evaluate(X_test,y_test)"
   ]
  },
  {
   "cell_type": "code",
   "execution_count": 18,
   "metadata": {},
   "outputs": [
    {
     "name": "stdout",
     "output_type": "stream",
     "text": [
      "test_acc:  0.65\n"
     ]
    }
   ],
   "source": [
    "print('test_acc: ',test_acc)"
   ]
  },
  {
   "cell_type": "markdown",
   "metadata": {},
   "source": [
    "Tes accuracy is less than training dataa accuracy. This hints at Overfitting\n",
    "\n",
    "Validating our approach\n",
    "Let's set apart 200 samples in our training data to use as a validation set:"
   ]
  },
  {
   "cell_type": "code",
   "execution_count": 19,
   "metadata": {},
   "outputs": [],
   "source": [
    "x_val = X_train[:200]\n",
    "partial_x_train = X_train[200:]\n",
    "\n",
    "y_val = y_train[:200]\n",
    "partial_y_train = y_train[200:]"
   ]
  },
  {
   "cell_type": "code",
   "execution_count": 20,
   "metadata": {},
   "outputs": [
    {
     "name": "stdout",
     "output_type": "stream",
     "text": [
      "Train on 600 samples, validate on 200 samples\n",
      "Epoch 1/30\n",
      "600/600 [==============================] - 0s 432us/step - loss: 2.3103 - acc: 0.0917 - val_loss: 2.1814 - val_acc: 0.2350\n",
      "Epoch 2/30\n",
      "600/600 [==============================] - 0s 50us/step - loss: 2.1177 - acc: 0.3283 - val_loss: 2.0707 - val_acc: 0.2550\n",
      "Epoch 3/30\n",
      "600/600 [==============================] - 0s 53us/step - loss: 1.9658 - acc: 0.3583 - val_loss: 1.9620 - val_acc: 0.3050\n",
      "Epoch 4/30\n",
      "600/600 [==============================] - 0s 47us/step - loss: 1.8217 - acc: 0.4083 - val_loss: 1.8760 - val_acc: 0.3400\n",
      "Epoch 5/30\n",
      "600/600 [==============================] - 0s 49us/step - loss: 1.7040 - acc: 0.4267 - val_loss: 1.7814 - val_acc: 0.3650\n",
      "Epoch 6/30\n",
      "600/600 [==============================] - 0s 48us/step - loss: 1.5828 - acc: 0.4417 - val_loss: 1.6746 - val_acc: 0.4150\n",
      "Epoch 7/30\n",
      "600/600 [==============================] - 0s 50us/step - loss: 1.4711 - acc: 0.5083 - val_loss: 1.6061 - val_acc: 0.3850\n",
      "Epoch 8/30\n",
      "600/600 [==============================] - 0s 50us/step - loss: 1.3845 - acc: 0.5350 - val_loss: 1.5538 - val_acc: 0.3900\n",
      "Epoch 9/30\n",
      "600/600 [==============================] - 0s 53us/step - loss: 1.2951 - acc: 0.5567 - val_loss: 1.4979 - val_acc: 0.4300\n",
      "Epoch 10/30\n",
      "600/600 [==============================] - 0s 52us/step - loss: 1.2101 - acc: 0.6017 - val_loss: 1.4511 - val_acc: 0.4850\n",
      "Epoch 11/30\n",
      "600/600 [==============================] - 0s 54us/step - loss: 1.1401 - acc: 0.6367 - val_loss: 1.4079 - val_acc: 0.5100\n",
      "Epoch 12/30\n",
      "600/600 [==============================] - 0s 59us/step - loss: 1.0823 - acc: 0.6550 - val_loss: 1.3968 - val_acc: 0.5050\n",
      "Epoch 13/30\n",
      "600/600 [==============================] - 0s 67us/step - loss: 1.0229 - acc: 0.6467 - val_loss: 1.3911 - val_acc: 0.5050\n",
      "Epoch 14/30\n",
      "600/600 [==============================] - 0s 55us/step - loss: 0.9727 - acc: 0.6650 - val_loss: 1.3750 - val_acc: 0.5300\n",
      "Epoch 15/30\n",
      "600/600 [==============================] - 0s 50us/step - loss: 0.9276 - acc: 0.6800 - val_loss: 1.3335 - val_acc: 0.5500\n",
      "Epoch 16/30\n",
      "600/600 [==============================] - 0s 44us/step - loss: 0.8731 - acc: 0.7133 - val_loss: 1.3256 - val_acc: 0.5750\n",
      "Epoch 17/30\n",
      "600/600 [==============================] - 0s 56us/step - loss: 0.8407 - acc: 0.7183 - val_loss: 1.3066 - val_acc: 0.5900\n",
      "Epoch 18/30\n",
      "600/600 [==============================] - 0s 39us/step - loss: 0.7976 - acc: 0.7433 - val_loss: 1.3083 - val_acc: 0.5750\n",
      "Epoch 19/30\n",
      "600/600 [==============================] - 0s 35us/step - loss: 0.7473 - acc: 0.7550 - val_loss: 1.3411 - val_acc: 0.5650\n",
      "Epoch 20/30\n",
      "600/600 [==============================] - 0s 57us/step - loss: 0.7252 - acc: 0.7567 - val_loss: 1.2899 - val_acc: 0.5800\n",
      "Epoch 21/30\n",
      "600/600 [==============================] - 0s 51us/step - loss: 0.6809 - acc: 0.7867 - val_loss: 1.2561 - val_acc: 0.6200\n",
      "Epoch 22/30\n",
      "600/600 [==============================] - 0s 44us/step - loss: 0.6659 - acc: 0.7700 - val_loss: 1.2692 - val_acc: 0.6150\n",
      "Epoch 23/30\n",
      "600/600 [==============================] - 0s 74us/step - loss: 0.6360 - acc: 0.7850 - val_loss: 1.3027 - val_acc: 0.6050\n",
      "Epoch 24/30\n",
      "600/600 [==============================] - 0s 50us/step - loss: 0.5997 - acc: 0.7967 - val_loss: 1.3127 - val_acc: 0.5800\n",
      "Epoch 25/30\n",
      "600/600 [==============================] - 0s 52us/step - loss: 0.5861 - acc: 0.7900 - val_loss: 1.2981 - val_acc: 0.5950\n",
      "Epoch 26/30\n",
      "600/600 [==============================] - 0s 45us/step - loss: 0.5730 - acc: 0.8000 - val_loss: 1.3285 - val_acc: 0.5950\n",
      "Epoch 27/30\n",
      "600/600 [==============================] - 0s 50us/step - loss: 0.5586 - acc: 0.8100 - val_loss: 1.3164 - val_acc: 0.5750\n",
      "Epoch 28/30\n",
      "600/600 [==============================] - 0s 64us/step - loss: 0.5300 - acc: 0.8317 - val_loss: 1.2702 - val_acc: 0.6250\n",
      "Epoch 29/30\n",
      "600/600 [==============================] - 0s 68us/step - loss: 0.5106 - acc: 0.8317 - val_loss: 1.2858 - val_acc: 0.6550\n",
      "Epoch 30/30\n",
      "600/600 [==============================] - 0s 66us/step - loss: 0.5059 - acc: 0.8467 - val_loss: 1.3180 - val_acc: 0.6250\n",
      "200/200 [==============================] - 0s 73us/step\n"
     ]
    }
   ],
   "source": [
    "model = models.Sequential()\n",
    "model.add(layers.Dense(512, activation='relu', input_shape=(X_train.shape[1],)))\n",
    "model.add(layers.Dense(256, activation='relu'))\n",
    "model.add(layers.Dense(128, activation='relu'))\n",
    "model.add(layers.Dense(64, activation='relu'))\n",
    "model.add(layers.Dense(10, activation='softmax'))\n",
    "\n",
    "model.compile(optimizer='adam',\n",
    "              loss='sparse_categorical_crossentropy',\n",
    "              metrics=['accuracy'])\n",
    "\n",
    "model.fit(partial_x_train,\n",
    "          partial_y_train,\n",
    "          epochs=30,\n",
    "          batch_size=512,\n",
    "          validation_data=(x_val, y_val))\n",
    "results = model.evaluate(X_test, y_test)"
   ]
  },
  {
   "cell_type": "code",
   "execution_count": 21,
   "metadata": {},
   "outputs": [
    {
     "data": {
      "text/plain": [
       "[1.2775928354263306, 0.595]"
      ]
     },
     "execution_count": 21,
     "metadata": {},
     "output_type": "execute_result"
    }
   ],
   "source": [
    "results"
   ]
  },
  {
   "cell_type": "code",
   "execution_count": 22,
   "metadata": {},
   "outputs": [],
   "source": [
    "predictions = model.predict(X_test)"
   ]
  },
  {
   "cell_type": "code",
   "execution_count": 23,
   "metadata": {},
   "outputs": [
    {
     "data": {
      "text/plain": [
       "(10,)"
      ]
     },
     "execution_count": 23,
     "metadata": {},
     "output_type": "execute_result"
    }
   ],
   "source": [
    "predictions[0].shape"
   ]
  },
  {
   "cell_type": "code",
   "execution_count": 24,
   "metadata": {},
   "outputs": [
    {
     "data": {
      "text/plain": [
       "1.0000001"
      ]
     },
     "execution_count": 24,
     "metadata": {},
     "output_type": "execute_result"
    }
   ],
   "source": [
    "np.sum(predictions[0])"
   ]
  },
  {
   "cell_type": "code",
   "execution_count": 25,
   "metadata": {},
   "outputs": [
    {
     "data": {
      "text/plain": [
       "7"
      ]
     },
     "execution_count": 25,
     "metadata": {},
     "output_type": "execute_result"
    }
   ],
   "source": [
    "np.argmax(predictions[0])"
   ]
  },
  {
   "cell_type": "code",
   "execution_count": null,
   "metadata": {},
   "outputs": [],
   "source": []
  }
 ],
 "metadata": {
  "kernelspec": {
   "display_name": "Python 3",
   "language": "python",
   "name": "python3"
  },
  "language_info": {
   "codemirror_mode": {
    "name": "ipython",
    "version": 3
   },
   "file_extension": ".py",
   "mimetype": "text/x-python",
   "name": "python",
   "nbconvert_exporter": "python",
   "pygments_lexer": "ipython3",
   "version": "3.6.8"
  }
 },
 "nbformat": 4,
 "nbformat_minor": 2
}
